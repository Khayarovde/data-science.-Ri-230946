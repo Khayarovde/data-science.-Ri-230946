{
 "cells": [
  {
   "cell_type": "code",
   "execution_count": null,
   "id": "d1f5f1aa",
   "metadata": {},
   "outputs": [],
   "source": [
    "import kagglehub\n",
    "import os\n",
    "import pandas as pd\n",
    "import numpy as np\n",
    "import seaborn as sns\n",
    "import matplotlib.pyplot as plt\n",
    "import time\n",
    "\n",
    "from sklearn.preprocessing import LabelEncoder, StandardScaler\n",
    "from sklearn.model_selection import KFold, cross_val_score\n",
    "from sklearn.linear_model import LinearRegression\n",
    "from sklearn.ensemble import RandomForestRegressor, GradientBoostingRegressor\n",
    "from xgboost import XGBRegressor\n",
    "from sklearn.neural_network import MLPRegressor\n",
    "\n",
    "import warnings\n",
    "warnings.filterwarnings(\"ignore\")\n",
    "sns.set(style=\"whitegrid\")"
   ]
  },
  {
   "cell_type": "markdown",
   "id": "3f402e80",
   "metadata": {},
   "source": [
    "Описание dataset: Контекст задачи Записи о продажах с 2011 по 2014 годы, включающие 3 основные категории товаров и 17 подкатегорий, представлены с детализацией по регионам и сегментам.\n",
    "\n",
    "Описание ключевых признаков: State (Штат): Штат, в котором проживает клиент (внутри страны).\n",
    "\n",
    "City (Город): Город проживания клиента.\n",
    "\n",
    "Region (Регион): Географический регион (например, Запад, Юг и т.д.).\n",
    "\n",
    "Segment (Сегмент): Тип клиента/рынка: Consumer, Corporate, Home Office и др.\n",
    "\n",
    "Ship Mode (Способ доставки): Метод доставки заказа до клиента.\n",
    "\n",
    "Category (Категория): Основная категория товара (например, Мебель, Техника).\n",
    "\n",
    "Sub-Category (Подкатегория): Более точная классификация товаров.\n",
    "\n",
    "Product Name (Наименование товара): Название конкретного продукта.\n",
    "\n",
    "Discount (Скидка): Скидка, применённая к товару.\n",
    "\n",
    "Sales (Продажи): Общая сумма продаж по заказу.\n",
    "\n",
    "Profit (Прибыль): Полученная прибыль по заказу.\n",
    "\n",
    "Quantity (Количество): Количество единиц товара в заказе.\n",
    "\n",
    "Feedback (Отзыв): Признак — оставил ли клиент отзыв (True/False)."
   ]
  },
  {
   "cell_type": "code",
   "execution_count": null,
   "id": "1cd40dff",
   "metadata": {},
   "outputs": [],
   "source": [
    "print(\"Скачиваем датасет через kagglehub...\")\n",
    "path = kagglehub.dataset_download(\"braniac2000/retail-dataset\")\n",
    "print(f\"Путь к скачанной папке: {path}\")\n",
    "\n",
    "xlsx_path = None\n",
    "for root, dirs, files in os.walk(path):\n",
    "    for f in files:\n",
    "        if f.endswith(\".xlsx\"):\n",
    "            xlsx_path = os.path.join(root, f)\n",
    "            break\n",
    "    if xlsx_path:\n",
    "        break\n",
    "\n",
    "if xlsx_path is None:\n",
    "    raise ValueError(\"Файл .xlsx не найден!\")\n",
    "\n",
    "print(f\"Используем Excel-файл: {xlsx_path}\")\n",
    "\n",
    "df = pd.read_excel(xlsx_path, sheet_name='Order Data')\n",
    "print(f\"Исходный размер данных: {df.shape}\")\n"
   ]
  },
  {
   "cell_type": "markdown",
   "id": "0206b4cf",
   "metadata": {},
   "source": [
    "Скачивание файла dataset, который проверяет установился ли файл, либо же нет."
   ]
  },
  {
   "cell_type": "code",
   "execution_count": null,
   "id": "c33ea831",
   "metadata": {},
   "outputs": [],
   "source": [
    "# Отфильтровать строки без пропусков (NaN)\n",
    "df_no_nan = df.dropna()\n",
    "\n",
    "# Получить описательную статистику по отфильтрованным данным\n",
    "desc_no_nan = df_no_nan.describe(include='all')\n",
    "\n",
    "# Показать результат\n",
    "num_non_null_rows = df.dropna().shape[0]\n",
    "\n",
    "print(f\"Количество строк без пропусков: {num_non_null_rows}\")\n"
   ]
  },
  {
   "cell_type": "code",
   "execution_count": null,
   "id": "32719ea9",
   "metadata": {},
   "outputs": [],
   "source": [
    "df.head()\n",
    "df.info()"
   ]
  },
  {
   "cell_type": "code",
   "execution_count": null,
   "id": "632ab675",
   "metadata": {},
   "outputs": [],
   "source": [
    "import matplotlib.pyplot as plt\n",
    "import seaborn as sns\n",
    "from IPython.display import display, HTML\n",
    "\n",
    "def analyze_profit_by_category(df, col, top_n=10):\n",
    "    # Считаем суммарную прибыль по всем уникальным значениям (включая отрицательные)\n",
    "    total_profit = df.groupby(col)['Profit'].sum()\n",
    "\n",
    "    # Отбираем топ-N значений с наибольшей суммарной прибылью (по убыванию)\n",
    "    top_vals = total_profit.sort_values(ascending=False).head(top_n).index.tolist()\n",
    "\n",
    "    # Фильтруем исходный датафрейм по топ-N\n",
    "    df_top = df[df[col].isin(top_vals)].copy()\n",
    "\n",
    "    # Считаем метрики по всем заказам (включая отрицательные)\n",
    "    profit_sum = df_top.groupby(col)['Profit'].sum().reindex(top_vals)\n",
    "    avg_profit_all = df_top.groupby(col)['Profit'].mean().reindex(top_vals)\n",
    "\n",
    "    # Средняя прибыль только по прибыльным заказам (для информации)\n",
    "    avg_profit_positive = df_top[df_top['Profit'] > 0].groupby(col)['Profit'].mean().reindex(top_vals)\n",
    "\n",
    "    order_count = df_top.groupby(col).size().reindex(top_vals)\n",
    "\n",
    "    # Процент убыточных заказов\n",
    "    loss_counts = df_top[df_top['Profit'] < 0].groupby(col).size().reindex(top_vals).fillna(0)\n",
    "    loss_percent = (loss_counts / order_count * 100).fillna(0)\n",
    "\n",
    "    # Цвета для топовых значений\n",
    "    palette = sns.color_palette(\"tab10\", n_colors=len(top_vals))\n",
    "    color_dict = dict(zip(top_vals, palette))\n",
    "\n",
    "    fig, axes = plt.subplots(1, 3, figsize=(20, 6))\n",
    "\n",
    "    # Суммарная прибыль\n",
    "    sns.barplot(x=profit_sum.index, y=profit_sum.values, palette=[color_dict[x] for x in profit_sum.index], ax=axes[0])\n",
    "    axes[0].set_title(f\"Суммарная прибыль по {col}\")\n",
    "    axes[0].set_xlabel(col)\n",
    "    axes[0].set_ylabel(\"Суммарная прибыль\")\n",
    "    axes[0].tick_params(axis='x', rotation=45)\n",
    "\n",
    "    # Средняя прибыль (все заказы)\n",
    "    sns.barplot(x=avg_profit_all.index, y=avg_profit_all.values, palette=[color_dict[x] for x in avg_profit_all.index], ax=axes[1])\n",
    "    axes[1].set_title(f\"Средняя прибыль на заказ по {col} (все заказы)\")\n",
    "    axes[1].set_xlabel(col)\n",
    "    axes[1].set_ylabel(\"Средняя прибыль\")\n",
    "    axes[1].tick_params(axis='x', rotation=45)\n",
    "\n",
    "    # Количество заказов\n",
    "    sns.barplot(x=order_count.index, y=order_count.values, palette=[color_dict[x] for x in order_count.index], ax=axes[2])\n",
    "    axes[2].set_title(f\"Количество заказов по {col}\")\n",
    "    axes[2].set_xlabel(col)\n",
    "    axes[2].set_ylabel(\"Количество заказов\")\n",
    "    axes[2].tick_params(axis='x', rotation=45)\n",
    "\n",
    "    plt.tight_layout()\n",
    "    plt.show()\n",
    "\n",
    "    # Распределение прибыли по категориям\n",
    "    print(f\"\\n📊 Распределение прибыли по категориям внутри топ-{top_n} {col}\")\n",
    "    profit_by_cat = df_top.groupby([col, 'Category'])['Profit'].sum().unstack(fill_value=0).reindex(top_vals)\n",
    "\n",
    "    profit_by_cat.plot(kind='bar', stacked=True, figsize=(16, 7), colormap='tab20')\n",
    "    plt.title(f\"Распределение прибыли по категориям в топ-{top_n} {col}\")\n",
    "    plt.xlabel(col)\n",
    "    plt.ylabel(\"Суммарная прибыль\")\n",
    "    plt.xticks(rotation=45)\n",
    "    plt.legend(title='Категории', bbox_to_anchor=(1.05, 1), loc='upper left')\n",
    "    plt.tight_layout()\n",
    "    plt.show()\n",
    "\n",
    "    best_sum_profit = profit_sum.idxmax()\n",
    "    worst_sum_profit = profit_sum.idxmin()\n",
    "\n",
    "    def fmt_int(n):\n",
    "        return f\"{int(n):,}\".replace(\",\", \" \")\n",
    "\n",
    "    def fmt_float(n):\n",
    "        return f\"{n:.2f}\"\n",
    "\n",
    "    print(f\"\\n💡 Вывод по '{col}':\")\n",
    "    print(f\"- Максимальная суммарная прибыль у '{best_sum_profit}' — {fmt_int(profit_sum.max())}\")\n",
    "    print(f\"- Минимальная суммарная прибыль у '{worst_sum_profit}' — {fmt_int(profit_sum.min())}\")\n",
    "    print(f\"- Средняя прибыль на заказ (все заказы) варьируется от {fmt_float(avg_profit_all.min())} до {fmt_float(avg_profit_all.max())}\")\n",
    "    print(f\"- Средняя прибыль на заказ (только прибыльные) варьируется от {fmt_float(avg_profit_positive.min())} до {fmt_float(avg_profit_positive.max())}\")\n",
    "    print(f\"- Количество заказов в топ-{top_n} '{col}' варьируется от {fmt_int(order_count.min())} до {fmt_int(order_count.max())}\")\n",
    "    print(f\"- Процент убыточных заказов в топ-{top_n} '{col}':\")\n",
    "    for val in top_vals:\n",
    "        print(f\"  • {val}: {fmt_float(loss_percent[val])}%\")\n",
    "\n",
    "\n",
    "analyze_profit_by_category(df, 'Customer Name')\n",
    "\n"
   ]
  },
  {
   "cell_type": "markdown",
   "id": "dddb027e",
   "metadata": {},
   "source": [
    "Максимальная прибыль концентрируется у небольшого числа клиентов с большим числом заказов и высокой средней прибылью. При этом у некоторых клиентов высокий процент убыточных заказов, что может на акции или скидки, либо на процент возвратов."
   ]
  },
  {
   "cell_type": "code",
   "execution_count": null,
   "id": "b6a79d3e",
   "metadata": {},
   "outputs": [],
   "source": [
    "analyze_profit_by_category(df, 'Country')"
   ]
  },
  {
   "cell_type": "markdown",
   "id": "c781c373",
   "metadata": {},
   "source": [
    "Как видно, основная прибыль поступает из крупных городов с развитой экономикой. При этом спрос разделён не однородно, так многие страны имели низкую доходность, но скорее вызвано тем, что часть товаров не было, а с другой стороны в более развитых странах наблюдается больших процент убыточных заказов\n",
    "\n"
   ]
  },
  {
   "cell_type": "code",
   "execution_count": null,
   "id": "8f094128",
   "metadata": {},
   "outputs": [],
   "source": [
    "analyze_profit_by_category(df, 'State')"
   ]
  },
  {
   "cell_type": "markdown",
   "id": "cf51e623",
   "metadata": {},
   "source": [
    "Максимальная прибыль и количество заказов сосредоточены в экономически развитых штатах (например, England). Высокий процент убыточных заказов в некоторых штатах указывает на снижение маржинальности, возможно из-за скидок или возвратов."
   ]
  },
  {
   "cell_type": "code",
   "execution_count": null,
   "id": "959645cf",
   "metadata": {},
   "outputs": [],
   "source": [
    "analyze_profit_by_category(df, 'City')"
   ]
  },
  {
   "cell_type": "markdown",
   "id": "105707c1",
   "metadata": {},
   "source": [
    "Как видно, основные заказы поступают из городов с высокой экономической активностью. При этом спрос по категориям товаров варьируется: в некоторых городах преобладает покупка технологичных товаров, тогда как в других спрос на другие товары."
   ]
  },
  {
   "cell_type": "code",
   "execution_count": null,
   "id": "40ee6a52",
   "metadata": {},
   "outputs": [],
   "source": [
    "analyze_profit_by_category(df, 'Region')"
   ]
  },
  {
   "cell_type": "markdown",
   "id": "3f584210",
   "metadata": {},
   "source": [
    "Центральные районы приносят максимальную прибыль при умеренном уровне убыточных заказов. Южные показывает минимальную прибыль с похожим уровнем убытков. В Северный высокий процент убыточных заказов снижает эффективность продаж. Разные регионы требуют разных стратегий из-за отличий в прибыльности и рисках, а также то, что центральный регион чаще всего является регионом столицей, из-за чего количество клиентов больше."
   ]
  },
  {
   "cell_type": "code",
   "execution_count": null,
   "id": "38b42819",
   "metadata": {},
   "outputs": [],
   "source": [
    "analyze_profit_by_category(df, 'Segment')"
   ]
  },
  {
   "cell_type": "markdown",
   "id": "43f153fe",
   "metadata": {},
   "source": [
    "Сегмент Consumer (частные покупатели) лидирует по прибыли благодаря большему числу мелких заказов и разнообразию ассортимента, но из‑за скидок и возвратов у них выше риск убыточных сделок. Corporate (корпоративные клиенты) стабилен в объёмах и марже, т.к. работает по договорным ценам. Home Office (домашние офисы) генерирует меньше прибыли из‑за низких заказных объёмов и ограниченного ассортимента. Каждый сегмент требует своей ценовой и ассортиментной стратегии.\n",
    "\n"
   ]
  },
  {
   "cell_type": "code",
   "execution_count": null,
   "id": "49fd8345",
   "metadata": {},
   "outputs": [],
   "source": [
    "analyze_profit_by_category(df, 'Ship Mode')"
   ]
  },
  {
   "cell_type": "markdown",
   "id": "28df7464",
   "metadata": {},
   "source": [
    "Economy справляется с большим количеством дешёвых отправлений в крупных рынках, поэтому её убыточность 22% — много малых заказов и возвратов. Priority (22%) и Economy Plus (~21%) скорее всего какая-та премиум услуга платежеспособных регионах, где клиенты готовы переплачивать за скорость доставки. Сюдя по тому что прочитал."
   ]
  },
  {
   "cell_type": "code",
   "execution_count": null,
   "id": "d4ae88a6",
   "metadata": {},
   "outputs": [],
   "source": [
    "analyze_profit_by_category(df, 'Category')"
   ]
  },
  {
   "cell_type": "markdown",
   "id": "cef88b02",
   "metadata": {},
   "source": [
    "В большинстве своём офисные вещи популярны, т.к. многим офисам нужны столы, стулья и т.д.. Технологии меньше, но дороже, т.к., например, нужны компьютеры для анализа данных. Фурнитура проигрывает по всем фронтам, т.к. она стоит меньше, но всё же заказывается."
   ]
  },
  {
   "cell_type": "code",
   "execution_count": null,
   "id": "f3aed15c",
   "metadata": {},
   "outputs": [],
   "source": [
    "analyze_profit_by_category(df, 'Sub-Category')"
   ]
  },
  {
   "cell_type": "markdown",
   "id": "9db89152",
   "metadata": {},
   "source": [
    "Чаще покупателям нужны произведения искуства для украшения комнаты, а также другие товары для обстановки комнат.\n"
   ]
  },
  {
   "cell_type": "code",
   "execution_count": null,
   "id": "7329e047",
   "metadata": {},
   "outputs": [],
   "source": [
    "analyze_profit_by_category(df, 'Feedback?')"
   ]
  },
  {
   "cell_type": "markdown",
   "id": "2d012b2a",
   "metadata": {},
   "source": [
    "Чаще люди полагаются на отзывы при заказе товаров, но убыточность одинаково, т.к. неизвестно понравится человеку тот или иной товар."
   ]
  },
  {
   "cell_type": "markdown",
   "id": "df12e9f5",
   "metadata": {},
   "source": [
    "Feature Engineering. Корреляция новых колонок с таргетом. Feature Importances. Простая модель."
   ]
  },
  {
   "cell_type": "code",
   "execution_count": null,
   "id": "47974e08",
   "metadata": {},
   "outputs": [],
   "source": [
    "import pandas as pd\n",
    "from sklearn.preprocessing import LabelEncoder\n",
    "from sklearn.model_selection import train_test_split\n",
    "from sklearn.metrics import accuracy_score\n",
    "import seaborn as sns\n",
    "import matplotlib.pyplot as plt\n",
    "from tensorflow.keras.models import Sequential\n",
    "from tensorflow.keras.layers import Dense, LeakyReLU\n",
    "import numpy as np\n",
    "\n",
    "# --- Предобработка ---\n",
    "\n",
    "df['Feedback?'] = df['Feedback?'].astype(int)\n",
    "df['Price_per_unit'] = df['Sales'] / df['Quantity']\n",
    "df['Profit_margin'] = df['Profit'] / df['Sales']\n",
    "if 'Discount' in df.columns:\n",
    "    df['Discount_flag'] = (df['Discount'] > 0).astype(int)\n",
    "else:\n",
    "    df['Discount_flag'] = 0\n",
    "df['Has_Feedback'] = df['Feedback?']\n",
    "\n",
    "cols_to_drop = ['Customer Name', 'Country', 'State', 'City', 'Product Name',\n",
    "                'Order ID', 'Customer ID', 'Discount', 'Year']\n",
    "df = df.drop(cols_to_drop, axis=1, errors='ignore')\n",
    "\n",
    "datetime_cols = df.select_dtypes(include=['datetime64[ns]']).columns\n",
    "df = df.drop(datetime_cols, axis=1)\n",
    "\n",
    "for col in ['Category', 'Sub-Category', 'Region', 'Segment', 'Ship Mode']:\n",
    "    if col in df.columns and df[col].dtype == 'object':\n",
    "        df[col] = LabelEncoder().fit_transform(df[col])\n",
    "\n",
    "num_cols = df.select_dtypes(include=['number']).columns\n",
    "df[num_cols] = df[num_cols].fillna(df[num_cols].median())\n",
    "\n",
    "numeric_cols = ['Sales', 'Profit', 'Quantity', 'Price_per_unit', 'Profit_margin', 'Discount_flag', 'Has_Feedback']\n",
    "numeric_cols = [col for col in numeric_cols if col in df.columns]\n",
    "\n",
    "corr = df[numeric_cols + ['Profit']].corr()\n",
    "sns.heatmap(corr, annot=True, cmap='coolwarm')\n",
    "plt.show()\n",
    "\n",
    "# --- Модель ---\n",
    "\n",
    "X = df.drop('Profit', axis=1)\n",
    "y = (df['Profit'] > 0).astype(int)\n",
    "\n",
    "X_train, X_test, y_train, y_test = train_test_split(X, y, test_size=0.2, random_state=42)\n",
    "\n",
    "model = Sequential()\n",
    "model.add(Dense(64, input_shape=(X_train.shape[1],)))\n",
    "model.add(LeakyReLU(alpha=0.1))\n",
    "model.add(Dense(1, activation='sigmoid'))\n",
    "\n",
    "model.compile(optimizer='adam', loss='binary_crossentropy', metrics=['accuracy'])\n",
    "model.fit(X_train, y_train, epochs=10, batch_size=32, verbose=0)\n",
    "\n",
    "y_pred = (model.predict(X_test) > 0.5).astype(int)\n",
    "print('Accuracy:', accuracy_score(y_test, y_pred))\n",
    "\n",
    "# --- График распределения результатов ---\n",
    "\n",
    "results_df = pd.DataFrame({'Actual': y_test, 'Predicted': y_pred.flatten()})\n",
    "\n",
    "tp = np.sum((results_df['Actual'] == 1) & (results_df['Predicted'] == 1))\n",
    "tn = np.sum((results_df['Actual'] == 0) & (results_df['Predicted'] == 0))\n",
    "fp = np.sum((results_df['Actual'] == 0) & (results_df['Predicted'] == 1))\n",
    "fn = np.sum((results_df['Actual'] == 1) & (results_df['Predicted'] == 0))\n",
    "\n",
    "plt.bar(['True Positive', 'True Negative', 'False Positive', 'False Negative'],\n",
    "        [tp, tn, fp, fn], color=['green', 'green', 'red', 'red'])\n",
    "plt.title('Распределение предсказаний модели')\n",
    "plt.ylabel('Количество')\n",
    "plt.show()\n"
   ]
  },
  {
   "cell_type": "markdown",
   "id": "4d009805",
   "metadata": {},
   "source": [
    "👩‍🎓Эксперименты с моделями машинного обучения/глубокого обучения. По одной из каждого семейства. Линейные, деревья, модификации градиентного бустинга , нейронные сети. На основе результатов выбрать лучшую - делаем кросс-валидацию(не менее 5 фолдов) и итоговый вывод.\""
   ]
  },
  {
   "cell_type": "code",
   "execution_count": null,
   "id": "644d6284",
   "metadata": {},
   "outputs": [],
   "source": [
    "import warnings\n",
    "warnings.filterwarnings(\"ignore\")\n",
    "import pandas as pd\n",
    "import seaborn as sns\n",
    "import matplotlib.pyplot as plt\n",
    "from sklearn.preprocessing import LabelEncoder\n",
    "from sklearn.model_selection import train_test_split, cross_val_score, KFold\n",
    "from sklearn.metrics import accuracy_score\n",
    "from sklearn.linear_model import LogisticRegression\n",
    "from sklearn.ensemble import RandomForestClassifier, GradientBoostingClassifier\n",
    "from sklearn.neighbors import KNeighborsClassifier\n",
    "from tensorflow.keras.models import Sequential\n",
    "from tensorflow.keras.layers import Dense, LeakyReLU\n",
    "from tensorflow.keras.optimizers import Adam\n",
    "import numpy as np\n",
    "\n",
    "sns.set(style=\"whitegrid\")\n",
    "\n",
    "# === Формируем X и y ===\n",
    "X = df.drop(['Profit', 'Profit_Positive'], axis=1)\n",
    "y = df['Profit_Positive']\n",
    "\n",
    "# === Определяем модели ===\n",
    "models = {\n",
    "    'Logistic Regression': LogisticRegression(max_iter=1000),\n",
    "    'Random Forest': RandomForestClassifier(n_estimators=100, random_state=42),\n",
    "    'Gradient Boosting': GradientBoostingClassifier(n_estimators=100, random_state=42),\n",
    "    'K-Nearest Neighbors': KNeighborsClassifier(n_neighbors=5),\n",
    "}\n",
    "\n",
    "cv = KFold(n_splits=5, shuffle=True, random_state=42)\n",
    "cv_results = {}\n",
    "\n",
    "# === Кросс-валидация классических моделей ===\n",
    "print(\"Кросс-валидация классических моделей (5 фолдов):\\n\")\n",
    "for name, model in models.items():\n",
    "    scores = cross_val_score(model, X, y, cv=cv, scoring='accuracy')\n",
    "    cv_results[name] = scores\n",
    "    print(f\"{name}: средняя точность = {scores.mean():.4f}, std = {scores.std():.4f}\")\n",
    "\n",
    "# === Кросс-валидация нейросети вручную ===\n",
    "def create_nn_model(input_dim):\n",
    "    model = Sequential()\n",
    "    model.add(Dense(64, input_shape=(input_dim,)))\n",
    "    model.add(LeakyReLU(alpha=0.1))\n",
    "    model.add(Dense(1, activation='sigmoid'))\n",
    "    model.compile(optimizer=Adam(), loss='binary_crossentropy', metrics=['accuracy'])\n",
    "    return model\n",
    "\n",
    "print(\"\\nНейросеть (ручная кросс-валидация 5 фолдов):\")\n",
    "nn_accuracies = []\n",
    "\n",
    "for fold, (train_idx, val_idx) in enumerate(cv.split(X), 1):\n",
    "    X_train_cv, X_val_cv = X.iloc[train_idx], X.iloc[val_idx]\n",
    "    y_train_cv, y_val_cv = y.iloc[train_idx], y.iloc[val_idx]\n",
    "\n",
    "    model = create_nn_model(X.shape[1])\n",
    "    model.fit(X_train_cv, y_train_cv, epochs=10, batch_size=32, verbose=0)\n",
    "    preds = (model.predict(X_val_cv) > 0.5).astype(int)\n",
    "    acc = accuracy_score(y_val_cv, preds)\n",
    "    nn_accuracies.append(acc)\n",
    "    print(f\"  Fold {fold}: accuracy = {acc:.4f}\")\n",
    "\n",
    "cv_results['Neural Network'] = np.array(nn_accuracies)\n",
    "print(f\"Neural Network: средняя точность = {np.mean(nn_accuracies):.4f}, std = {np.std(nn_accuracies):.4f}\")\n",
    "\n",
    "# === Итог: выводим лучшую модель ===\n",
    "best_model = max(cv_results, key=lambda k: cv_results[k].mean())\n",
    "print(f\"\\nЛучшая модель: {best_model} с accuracy = {cv_results[best_model].mean():.4f} ± {cv_results[best_model].std():.4f}\")\n",
    "\n",
    "# === График сравнения моделей ===\n",
    "names = list(cv_results.keys())\n",
    "means = [cv_results[name].mean() for name in names]\n",
    "stds = [cv_results[name].std() for name in names]\n",
    "\n",
    "plt.figure(figsize=(10,6))\n",
    "plt.bar(names, means, yerr=stds, capsize=5, color='skyblue')\n",
    "plt.ylabel('Средняя точность (accuracy)')\n",
    "plt.title('Сравнение моделей по accuracy (5-fold CV)')\n",
    "plt.ylim(0, 1)\n",
    "plt.grid(axis='y')\n",
    "plt.show()\n"
   ]
  },
  {
   "cell_type": "markdown",
   "id": "f13e5f03",
   "metadata": {},
   "source": [
    "Лучшая модель: Random Forest с accuracy = 1.0000 ± 0.0000 наравне Gradient Boosting"
   ]
  }
 ],
 "metadata": {
  "kernelspec": {
   "display_name": "Python 3",
   "language": "python",
   "name": "python3"
  },
  "language_info": {
   "name": "python",
   "version": "3.13.3"
  }
 },
 "nbformat": 4,
 "nbformat_minor": 5
}
